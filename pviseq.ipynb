{
 "cells": [
  {
   "cell_type": "code",
   "execution_count": 1,
   "metadata": {},
   "outputs": [],
   "source": [
    "import torch\n",
    "import numpy as np\n",
    "import matplotlib.pyplot as plt\n",
    "import tqdm.auto as tqdm\n",
    "import torch\n",
    "import numpy as np\n",
    "from torch import distributions, nn, optim"
   ]
  },
  {
   "cell_type": "markdown",
   "metadata": {},
   "source": [
    "## Data Generation"
   ]
  },
  {
   "cell_type": "code",
   "execution_count": 2,
   "metadata": {},
   "outputs": [
    {
     "data": {
      "text/plain": [
       "[100.0,\n",
       " 31.622776601683793,\n",
       " 10.0,\n",
       " 3.1622776601683795,\n",
       " 1.0,\n",
       " 0.31622776601683794,\n",
       " 0.1,\n",
       " 0.03162277660168379,\n",
       " 0.01]"
      ]
     },
     "execution_count": 2,
     "metadata": {},
     "output_type": "execute_result"
    }
   ],
   "source": [
    "snr_ranges = list(range(-40, 41, 10))\n",
    "\n",
    "sigma_list = []\n",
    "\n",
    "for snr in snr_ranges:\n",
    "    sigma_sq = 10 ** (-snr / 10)\n",
    "    sigma = sigma_sq**0.5\n",
    "    sigma_list.append(sigma)\n",
    "\n",
    "sigma_list"
   ]
  },
  {
   "cell_type": "code",
   "execution_count": 3,
   "metadata": {},
   "outputs": [],
   "source": [
    "torch.set_default_dtype(torch.float64)\n",
    "\n",
    "N = 128\n",
    "M = 20\n",
    "K = 16\n",
    "\n",
    "sigma = 0.1"
   ]
  },
  {
   "cell_type": "code",
   "execution_count": 4,
   "metadata": {},
   "outputs": [
    {
     "name": "stderr",
     "output_type": "stream",
     "text": [
      "C:\\Users\\Naman\\AppData\\Local\\Temp\\ipykernel_10756\\3126022190.py:12: UserWarning: To copy construct from a tensor, it is recommended to use sourceTensor.clone().detach() or sourceTensor.clone().detach().requires_grad_(True), rather than torch.tensor(sourceTensor).\n",
      "  y = torch.tensor(y, dtype=torch.float64)\n"
     ]
    },
    {
     "data": {
      "text/plain": [
       "(torch.Size([128]), torch.Size([128, 20]), torch.Size([20]))"
      ]
     },
     "execution_count": 4,
     "metadata": {},
     "output_type": "execute_result"
    }
   ],
   "source": [
    "H = np.random.normal(0,1, size=(N,M))\n",
    "H = torch.from_numpy(H).double()\n",
    "\n",
    "x_true = np.random.choice([-1,1], size=M)\n",
    "x_true = torch.tensor(x_true).double()\n",
    "\n",
    "noise = torch.from_numpy(np.random.normal(0, sigma, size=N))\n",
    "\n",
    "R = H @ x_true + noise\n",
    "\n",
    "y = (np.sign(R) + 1)/2\n",
    "y = torch.tensor(y, dtype=torch.float64)\n",
    "\n",
    "\n",
    "y.shape, H.shape, x_true.shape"
   ]
  },
  {
   "cell_type": "code",
   "execution_count": 5,
   "metadata": {},
   "outputs": [
    {
     "data": {
      "text/plain": [
       "tensor([ 1.,  1., -1.,  1., -1., -1., -1.,  1., -1., -1., -1.,  1.,  1., -1.,\n",
       "        -1., -1.,  1., -1., -1., -1.])"
      ]
     },
     "execution_count": 5,
     "metadata": {},
     "output_type": "execute_result"
    }
   ],
   "source": [
    "x_true"
   ]
  },
  {
   "cell_type": "code",
   "execution_count": 6,
   "metadata": {},
   "outputs": [
    {
     "data": {
      "text/plain": [
       "tensor([1., 0., 1., 1., 0., 1., 1., 1., 0., 0., 1., 0., 1., 1., 1., 0., 1., 1.,\n",
       "        1., 0., 1., 0., 1., 1., 1., 0., 1., 0., 0., 1., 1., 1., 0., 0., 0., 0.,\n",
       "        0., 1., 0., 0., 1., 1., 1., 0., 0., 0., 0., 0., 1., 0., 1., 1., 0., 1.,\n",
       "        1., 1., 0., 0., 0., 1., 0., 1., 1., 0., 0., 1., 1., 1., 1., 0., 1., 0.,\n",
       "        1., 1., 1., 0., 1., 0., 0., 1., 0., 0., 1., 0., 1., 1., 1., 1., 1., 1.,\n",
       "        0., 1., 0., 0., 0., 1., 0., 1., 1., 1., 1., 0., 1., 0., 1., 0., 0., 0.,\n",
       "        0., 1., 0., 0., 1., 0., 0., 1., 0., 1., 1., 0., 0., 1., 1., 1., 1., 0.,\n",
       "        0., 0.])"
      ]
     },
     "execution_count": 6,
     "metadata": {},
     "output_type": "execute_result"
    }
   ],
   "source": [
    "y"
   ]
  },
  {
   "cell_type": "markdown",
   "metadata": {},
   "source": [
    "## Model"
   ]
  },
  {
   "cell_type": "code",
   "execution_count": 7,
   "metadata": {},
   "outputs": [],
   "source": [
    "from pvi.models.logistic_regression import LogisticRegressionModel\n",
    "from pvi.clients import Client\n",
    "from pvi.servers.sequential_server import SequentialServer\n",
    "from pvi.distributions.exponential_family_distributions import MultivariateGaussianDistribution, MeanFieldGaussianDistribution\n",
    "from pvi.distributions.exponential_family_factors import MultivariateGaussianFactor, MeanFieldGaussianFactor\n"
   ]
  },
  {
   "cell_type": "code",
   "execution_count": 8,
   "metadata": {},
   "outputs": [
    {
     "name": "stderr",
     "output_type": "stream",
     "text": [
      "C:\\Users\\Naman\\AppData\\Local\\Temp\\ipykernel_10756\\2495994765.py:6: UserWarning: To copy construct from a tensor, it is recommended to use sourceTensor.clone().detach() or sourceTensor.clone().detach().requires_grad_(True), rather than torch.tensor(sourceTensor).\n",
      "  client_H = torch.tensor(H[L*i:L*i+L])\n",
      "C:\\Users\\Naman\\AppData\\Local\\Temp\\ipykernel_10756\\2495994765.py:7: UserWarning: To copy construct from a tensor, it is recommended to use sourceTensor.clone().detach() or sourceTensor.clone().detach().requires_grad_(True), rather than torch.tensor(sourceTensor).\n",
      "  client_y = torch.tensor(y[L*i:L*i+L])\n"
     ]
    },
    {
     "data": {
      "text/plain": [
       "{'x': tensor([[-0.4614, -0.2654, -0.6287,  0.1950,  0.0733,  1.2703, -0.7774, -0.3991,\n",
       "          -1.1503,  1.1476,  0.7530,  0.9419,  0.4615, -1.5189, -0.6588, -2.0512,\n",
       "           0.9266, -0.4626,  0.3328, -1.1961],\n",
       "         [-0.0659, -2.5162,  1.0898, -0.1512, -0.0769,  0.9765, -0.2290,  1.9435,\n",
       "           1.1739,  0.7933, -0.0586, -0.2185,  0.6972, -1.5136, -1.2258, -0.5211,\n",
       "           0.4446,  0.1743, -0.2844,  1.1021],\n",
       "         [ 0.5999, -0.3970,  0.8424,  0.6401, -0.9480, -1.4625,  0.1814, -0.3795,\n",
       "          -1.2125, -0.4653, -2.1691, -0.3747, -0.2169,  0.0443,  0.8787, -1.0396,\n",
       "          -0.8427,  1.9342, -1.0106,  1.6766],\n",
       "         [ 0.4235,  2.2681,  0.9758, -0.4553, -0.2380,  0.1686,  0.3330,  1.2128,\n",
       "           0.9846,  0.0404,  0.6690,  2.1655,  0.0664, -1.3107,  0.3410,  0.7671,\n",
       "           0.8045,  0.9252,  0.8895,  1.5086],\n",
       "         [-0.2800,  0.6324, -2.1592,  0.6225, -0.3431, -1.0162,  1.2479, -0.6872,\n",
       "           0.7986, -0.9075,  0.1074, -0.3177, -0.4175,  0.0241,  1.3776,  0.8778,\n",
       "          -0.6174, -1.3393, -0.9914,  2.7110],\n",
       "         [-0.0902,  1.0716, -1.2416,  0.4622, -1.5320, -1.5334,  0.2443, -0.1266,\n",
       "          -0.3729,  0.4686, -1.5821,  0.7498, -1.4133,  0.8634,  0.7459, -1.4338,\n",
       "          -0.0214, -0.9217,  1.0632, -0.1992],\n",
       "         [-1.8364, -0.4795,  0.2116, -0.1963, -0.6290, -1.3267,  1.4520,  0.3571,\n",
       "           0.1167,  1.5689, -0.1932, -0.4979,  1.0856,  0.1600,  1.7207, -0.1861,\n",
       "           1.6866, -1.7647, -0.0811, -1.1456],\n",
       "         [-1.8447, -0.4472, -0.3765, -0.7402, -1.0502,  1.0614,  0.2549,  2.4504,\n",
       "          -0.9881, -0.5157, -1.3588, -0.5662, -1.3895, -0.2155,  0.7017,  1.8680,\n",
       "           1.3268, -0.8660,  0.7954, -1.9355]]),\n",
       " 'y': tensor([1., 0., 1., 1., 0., 1., 1., 1.])}"
      ]
     },
     "execution_count": 8,
     "metadata": {},
     "output_type": "execute_result"
    }
   ],
   "source": [
    "client_data = []\n",
    "\n",
    "# Distribute data H and Y into K clients.\n",
    "L = int(N / K)\n",
    "for i in range(K):\n",
    "    client_H = torch.tensor(H[L*i:L*i+L])\n",
    "    client_y = torch.tensor(y[L*i:L*i+L])\n",
    "    \n",
    "    client_data.append({'x': client_H, 'y': client_y})\n",
    "\n",
    "client_data[0]"
   ]
  },
  {
   "cell_type": "code",
   "execution_count": 9,
   "metadata": {},
   "outputs": [],
   "source": [
    "hyperparameters = {\n",
    "    \"D\": M,\n",
    "    \"optimiser\": \"Adam\",\n",
    "    \"optimiser_params\": {\"lr\": 1e-2},\n",
    "    \"epochs\": 100,\n",
    "    \"batch_size\": 100,\n",
    "    \"num_elbo_samples\": 1,\n",
    "    \"num_predictive_samples\": 10\n",
    "}\n",
    "\n",
    "prior_std_params = {\n",
    "    \"loc\": torch.zeros(hyperparameters[\"D\"] + 1),\n",
    "    \"scale\": torch.ones(hyperparameters[\"D\"] + 1),\n",
    "}\n",
    "\n",
    "init_nat_params = {\n",
    "    \"np1\": torch.zeros(hyperparameters[\"D\"] + 1),\n",
    "    \"np2\": torch.zeros(hyperparameters[\"D\"] + 1),\n",
    "}\n"
   ]
  },
  {
   "cell_type": "code",
   "execution_count": 10,
   "metadata": {},
   "outputs": [
    {
     "data": {
      "text/plain": [
       "[<pvi.clients.base.Client at 0x1a7a717ba10>,\n",
       " <pvi.clients.base.Client at 0x1a7a73e5670>,\n",
       " <pvi.clients.base.Client at 0x1a7a903bfe0>,\n",
       " <pvi.clients.base.Client at 0x1a7a90c9a60>,\n",
       " <pvi.clients.base.Client at 0x1a7a90c9b50>,\n",
       " <pvi.clients.base.Client at 0x1a7a90c9c70>,\n",
       " <pvi.clients.base.Client at 0x1a7a90c9d30>,\n",
       " <pvi.clients.base.Client at 0x1a7a90c9910>,\n",
       " <pvi.clients.base.Client at 0x1a7a90c9e80>,\n",
       " <pvi.clients.base.Client at 0x1a7a90c9f40>,\n",
       " <pvi.clients.base.Client at 0x1a7a90ca000>,\n",
       " <pvi.clients.base.Client at 0x1a7a90ca0c0>,\n",
       " <pvi.clients.base.Client at 0x1a7a90ca180>,\n",
       " <pvi.clients.base.Client at 0x1a7a90ca240>,\n",
       " <pvi.clients.base.Client at 0x1a7a90ca300>,\n",
       " <pvi.clients.base.Client at 0x1a7a90ca3c0>]"
      ]
     },
     "execution_count": 10,
     "metadata": {},
     "output_type": "execute_result"
    }
   ],
   "source": [
    "clients = []\n",
    "\n",
    "for i in range(K):\n",
    "    # Defining a model, data known to it and 't' for each client\n",
    "    model_i = LogisticRegressionModel(hyperparameters=hyperparameters)\n",
    "    data_i = client_data[i]\n",
    "    t_i = MeanFieldGaussianFactor(nat_params=init_nat_params)\n",
    "\n",
    "    client = Client(data=data_i, model=model_i, t=t_i, config=hyperparameters)\n",
    "    clients.append(client)\n",
    "    \n",
    "clients"
   ]
  },
  {
   "cell_type": "code",
   "execution_count": 11,
   "metadata": {},
   "outputs": [
    {
     "data": {
      "application/vnd.jupyter.widget-view+json": {
       "model_id": "8c7fb4f073e64734b30521e406db720b",
       "version_major": 2,
       "version_minor": 0
      },
      "text/plain": [
       "0it [00:00, ?it/s]"
      ]
     },
     "metadata": {},
     "output_type": "display_data"
    }
   ],
   "source": [
    "model = LogisticRegressionModel(hyperparameters=hyperparameters)\n",
    "q = MeanFieldGaussianDistribution(std_params=prior_std_params, is_trainable=False)\n",
    "server = SequentialServer(model=model, p=q, clients=clients)\n",
    "server.timer.start()\n",
    "server._tick()"
   ]
  },
  {
   "cell_type": "code",
   "execution_count": 12,
   "metadata": {},
   "outputs": [
    {
     "data": {
      "text/plain": [
       "(array([ 0.83012035,  1.27854624, -0.59139142,  0.88043268, -0.66490992,\n",
       "        -1.15209325, -0.71362409,  1.3423492 , -1.2565487 , -0.42504821,\n",
       "        -1.14919432,  0.87345534,  1.34145613, -0.55153207, -0.76766096,\n",
       "        -1.04205509,  1.16688615, -0.94991457, -0.4472713 , -1.01963586]),\n",
       " array([ 1.,  1., -1.,  1., -1., -1., -1.,  1., -1., -1., -1.,  1.,  1.,\n",
       "        -1., -1., -1.,  1., -1., -1., -1.]),\n",
       " array([ 1.,  1., -1.,  1., -1., -1., -1.,  1., -1., -1., -1.,  1.,  1.,\n",
       "        -1., -1., -1.,  1., -1., -1., -1.]))"
      ]
     },
     "execution_count": 12,
     "metadata": {},
     "output_type": "execute_result"
    },
    {
     "ename": "",
     "evalue": "",
     "output_type": "error",
     "traceback": [
      "\u001b[1;31mThe Kernel crashed while executing code in the current cell or a previous cell. \n",
      "\u001b[1;31mPlease review the code in the cell(s) to identify a possible cause of the failure. \n",
      "\u001b[1;31mClick <a href='https://aka.ms/vscodeJupyterKernelCrash'>here</a> for more info. \n",
      "\u001b[1;31mView Jupyter <a href='command:jupyter.viewOutput'>log</a> for further details."
     ]
    }
   ],
   "source": [
    "mean_x = np.array(server.q.std_params['loc'][:20])\n",
    "detected_x = np.sign(list(mean_x))\n",
    "x_true = np.array(x_true)\n",
    "\n",
    "mean_x, detected_x, x_true"
   ]
  },
  {
   "cell_type": "markdown",
   "metadata": {},
   "source": [
    "## Model Parameters"
   ]
  },
  {
   "cell_type": "code",
   "execution_count": null,
   "metadata": {},
   "outputs": [],
   "source": []
  },
  {
   "cell_type": "code",
   "execution_count": 28,
   "metadata": {},
   "outputs": [],
   "source": []
  },
  {
   "cell_type": "code",
   "execution_count": null,
   "metadata": {},
   "outputs": [],
   "source": []
  },
  {
   "cell_type": "code",
   "execution_count": null,
   "metadata": {},
   "outputs": [],
   "source": []
  }
 ],
 "metadata": {
  "kernelspec": {
   "display_name": "base",
   "language": "python",
   "name": "python3"
  },
  "language_info": {
   "codemirror_mode": {
    "name": "ipython",
    "version": 3
   },
   "file_extension": ".py",
   "mimetype": "text/x-python",
   "name": "python",
   "nbconvert_exporter": "python",
   "pygments_lexer": "ipython3",
   "version": "3.12.7"
  }
 },
 "nbformat": 4,
 "nbformat_minor": 2
}
